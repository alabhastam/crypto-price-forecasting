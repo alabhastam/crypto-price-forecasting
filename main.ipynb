{
 "cells": [
  {
   "cell_type": "markdown",
   "id": "1ee080f6",
   "metadata": {
    "papermill": {
     "duration": 0.002332,
     "end_time": "2025-08-10T12:51:38.598375",
     "exception": false,
     "start_time": "2025-08-10T12:51:38.596043",
     "status": "completed"
    },
    "tags": []
   },
   "source": [
    "#  Data Understanding & Exploration"
   ]
  },
  {
   "cell_type": "code",
   "execution_count": 1,
   "id": "a163493a",
   "metadata": {
    "execution": {
     "iopub.execute_input": "2025-08-10T12:51:38.603697Z",
     "iopub.status.busy": "2025-08-10T12:51:38.603413Z",
     "iopub.status.idle": "2025-08-10T12:51:40.633518Z",
     "shell.execute_reply": "2025-08-10T12:51:40.632818Z"
    },
    "papermill": {
     "duration": 2.034553,
     "end_time": "2025-08-10T12:51:40.635226",
     "exception": false,
     "start_time": "2025-08-10T12:51:38.600673",
     "status": "completed"
    },
    "tags": []
   },
   "outputs": [],
   "source": [
    "import numpy as np # linear algebra\n",
    "import pandas as pd # data processing, CSV file I/O (e.g. pd.read_csv)\n",
    "import warnings\n",
    "warnings.filterwarnings('ignore')\n",
    "\n",
    "\n",
    "df = pd.read_csv('/kaggle/input/top-100-cryptocurrency-2020-2025/top_100_cryptos_with_correct_network.csv')"
   ]
  },
  {
   "cell_type": "code",
   "execution_count": 2,
   "id": "4dec2189",
   "metadata": {
    "execution": {
     "iopub.execute_input": "2025-08-10T12:51:40.640629Z",
     "iopub.status.busy": "2025-08-10T12:51:40.640350Z",
     "iopub.status.idle": "2025-08-10T12:51:40.645166Z",
     "shell.execute_reply": "2025-08-10T12:51:40.644183Z"
    },
    "papermill": {
     "duration": 0.008929,
     "end_time": "2025-08-10T12:51:40.646465",
     "exception": false,
     "start_time": "2025-08-10T12:51:40.637536",
     "status": "completed"
    },
    "tags": []
   },
   "outputs": [
    {
     "name": "stdout",
     "output_type": "stream",
     "text": [
      "Dataset shape: (211679, 7)\n",
      "Column names: ['symbol', 'date', 'open', 'high', 'low', 'close', 'network']\n"
     ]
    }
   ],
   "source": [
    "print(\"Dataset shape:\", df.shape)\n",
    "print(\"Column names:\", df.columns.tolist())"
   ]
  },
  {
   "cell_type": "code",
   "execution_count": 3,
   "id": "bfc6a476",
   "metadata": {
    "execution": {
     "iopub.execute_input": "2025-08-10T12:51:40.651526Z",
     "iopub.status.busy": "2025-08-10T12:51:40.651277Z",
     "iopub.status.idle": "2025-08-10T12:51:40.723244Z",
     "shell.execute_reply": "2025-08-10T12:51:40.722222Z"
    },
    "papermill": {
     "duration": 0.075961,
     "end_time": "2025-08-10T12:51:40.724635",
     "exception": false,
     "start_time": "2025-08-10T12:51:40.648674",
     "status": "completed"
    },
    "tags": []
   },
   "outputs": [
    {
     "name": "stdout",
     "output_type": "stream",
     "text": [
      "<class 'pandas.core.frame.DataFrame'>\n",
      "RangeIndex: 211679 entries, 0 to 211678\n",
      "Data columns (total 7 columns):\n",
      " #   Column   Non-Null Count   Dtype  \n",
      "---  ------   --------------   -----  \n",
      " 0   symbol   211679 non-null  object \n",
      " 1   date     211679 non-null  object \n",
      " 2   open     211679 non-null  float64\n",
      " 3   high     211679 non-null  float64\n",
      " 4   low      211679 non-null  float64\n",
      " 5   close    211679 non-null  float64\n",
      " 6   network  211679 non-null  object \n",
      "dtypes: float64(4), object(3)\n",
      "memory usage: 11.3+ MB\n"
     ]
    }
   ],
   "source": [
    "df.info()\n"
   ]
  },
  {
   "cell_type": "code",
   "execution_count": 4,
   "id": "c92a886d",
   "metadata": {
    "execution": {
     "iopub.execute_input": "2025-08-10T12:51:40.730242Z",
     "iopub.status.busy": "2025-08-10T12:51:40.729969Z",
     "iopub.status.idle": "2025-08-10T12:51:40.750527Z",
     "shell.execute_reply": "2025-08-10T12:51:40.749797Z"
    },
    "papermill": {
     "duration": 0.024868,
     "end_time": "2025-08-10T12:51:40.751827",
     "exception": false,
     "start_time": "2025-08-10T12:51:40.726959",
     "status": "completed"
    },
    "tags": []
   },
   "outputs": [
    {
     "data": {
      "text/html": [
       "<div>\n",
       "<style scoped>\n",
       "    .dataframe tbody tr th:only-of-type {\n",
       "        vertical-align: middle;\n",
       "    }\n",
       "\n",
       "    .dataframe tbody tr th {\n",
       "        vertical-align: top;\n",
       "    }\n",
       "\n",
       "    .dataframe thead th {\n",
       "        text-align: right;\n",
       "    }\n",
       "</style>\n",
       "<table border=\"1\" class=\"dataframe\">\n",
       "  <thead>\n",
       "    <tr style=\"text-align: right;\">\n",
       "      <th></th>\n",
       "      <th>symbol</th>\n",
       "      <th>date</th>\n",
       "      <th>open</th>\n",
       "      <th>high</th>\n",
       "      <th>low</th>\n",
       "      <th>close</th>\n",
       "      <th>network</th>\n",
       "    </tr>\n",
       "  </thead>\n",
       "  <tbody>\n",
       "    <tr>\n",
       "      <th>0</th>\n",
       "      <td>BTCUSDT</td>\n",
       "      <td>2018-08-01</td>\n",
       "      <td>7735.67</td>\n",
       "      <td>7750.00</td>\n",
       "      <td>7430.00</td>\n",
       "      <td>7604.58</td>\n",
       "      <td>Bitcoin</td>\n",
       "    </tr>\n",
       "    <tr>\n",
       "      <th>1</th>\n",
       "      <td>BTCUSDT</td>\n",
       "      <td>2018-08-02</td>\n",
       "      <td>7600.08</td>\n",
       "      <td>7709.46</td>\n",
       "      <td>7455.72</td>\n",
       "      <td>7525.71</td>\n",
       "      <td>Bitcoin</td>\n",
       "    </tr>\n",
       "    <tr>\n",
       "      <th>2</th>\n",
       "      <td>BTCUSDT</td>\n",
       "      <td>2018-08-03</td>\n",
       "      <td>7525.71</td>\n",
       "      <td>7540.00</td>\n",
       "      <td>7282.44</td>\n",
       "      <td>7418.78</td>\n",
       "      <td>Bitcoin</td>\n",
       "    </tr>\n",
       "    <tr>\n",
       "      <th>3</th>\n",
       "      <td>BTCUSDT</td>\n",
       "      <td>2018-08-04</td>\n",
       "      <td>7412.27</td>\n",
       "      <td>7494.81</td>\n",
       "      <td>6926.00</td>\n",
       "      <td>7009.84</td>\n",
       "      <td>Bitcoin</td>\n",
       "    </tr>\n",
       "    <tr>\n",
       "      <th>4</th>\n",
       "      <td>BTCUSDT</td>\n",
       "      <td>2018-08-05</td>\n",
       "      <td>7009.84</td>\n",
       "      <td>7089.87</td>\n",
       "      <td>6882.29</td>\n",
       "      <td>7024.19</td>\n",
       "      <td>Bitcoin</td>\n",
       "    </tr>\n",
       "  </tbody>\n",
       "</table>\n",
       "</div>"
      ],
      "text/plain": [
       "    symbol        date     open     high      low    close  network\n",
       "0  BTCUSDT  2018-08-01  7735.67  7750.00  7430.00  7604.58  Bitcoin\n",
       "1  BTCUSDT  2018-08-02  7600.08  7709.46  7455.72  7525.71  Bitcoin\n",
       "2  BTCUSDT  2018-08-03  7525.71  7540.00  7282.44  7418.78  Bitcoin\n",
       "3  BTCUSDT  2018-08-04  7412.27  7494.81  6926.00  7009.84  Bitcoin\n",
       "4  BTCUSDT  2018-08-05  7009.84  7089.87  6882.29  7024.19  Bitcoin"
      ]
     },
     "execution_count": 4,
     "metadata": {},
     "output_type": "execute_result"
    }
   ],
   "source": [
    "df.head()"
   ]
  },
  {
   "cell_type": "code",
   "execution_count": 5,
   "id": "b9711c5e",
   "metadata": {
    "execution": {
     "iopub.execute_input": "2025-08-10T12:51:40.757789Z",
     "iopub.status.busy": "2025-08-10T12:51:40.757098Z",
     "iopub.status.idle": "2025-08-10T12:51:40.767471Z",
     "shell.execute_reply": "2025-08-10T12:51:40.766792Z"
    },
    "papermill": {
     "duration": 0.014585,
     "end_time": "2025-08-10T12:51:40.768863",
     "exception": false,
     "start_time": "2025-08-10T12:51:40.754278",
     "status": "completed"
    },
    "tags": []
   },
   "outputs": [
    {
     "data": {
      "text/html": [
       "<div>\n",
       "<style scoped>\n",
       "    .dataframe tbody tr th:only-of-type {\n",
       "        vertical-align: middle;\n",
       "    }\n",
       "\n",
       "    .dataframe tbody tr th {\n",
       "        vertical-align: top;\n",
       "    }\n",
       "\n",
       "    .dataframe thead th {\n",
       "        text-align: right;\n",
       "    }\n",
       "</style>\n",
       "<table border=\"1\" class=\"dataframe\">\n",
       "  <thead>\n",
       "    <tr style=\"text-align: right;\">\n",
       "      <th></th>\n",
       "      <th>symbol</th>\n",
       "      <th>date</th>\n",
       "      <th>open</th>\n",
       "      <th>high</th>\n",
       "      <th>low</th>\n",
       "      <th>close</th>\n",
       "      <th>network</th>\n",
       "    </tr>\n",
       "  </thead>\n",
       "  <tbody>\n",
       "    <tr>\n",
       "      <th>211674</th>\n",
       "      <td>UMAUSDT</td>\n",
       "      <td>2025-08-01</td>\n",
       "      <td>1.242</td>\n",
       "      <td>1.251</td>\n",
       "      <td>1.162</td>\n",
       "      <td>1.202</td>\n",
       "      <td>Ethereum</td>\n",
       "    </tr>\n",
       "    <tr>\n",
       "      <th>211675</th>\n",
       "      <td>UMAUSDT</td>\n",
       "      <td>2025-08-02</td>\n",
       "      <td>1.202</td>\n",
       "      <td>1.216</td>\n",
       "      <td>1.147</td>\n",
       "      <td>1.172</td>\n",
       "      <td>Ethereum</td>\n",
       "    </tr>\n",
       "    <tr>\n",
       "      <th>211676</th>\n",
       "      <td>UMAUSDT</td>\n",
       "      <td>2025-08-03</td>\n",
       "      <td>1.175</td>\n",
       "      <td>1.210</td>\n",
       "      <td>1.158</td>\n",
       "      <td>1.207</td>\n",
       "      <td>Ethereum</td>\n",
       "    </tr>\n",
       "    <tr>\n",
       "      <th>211677</th>\n",
       "      <td>UMAUSDT</td>\n",
       "      <td>2025-08-04</td>\n",
       "      <td>1.206</td>\n",
       "      <td>1.247</td>\n",
       "      <td>1.201</td>\n",
       "      <td>1.242</td>\n",
       "      <td>Ethereum</td>\n",
       "    </tr>\n",
       "    <tr>\n",
       "      <th>211678</th>\n",
       "      <td>UMAUSDT</td>\n",
       "      <td>2025-08-05</td>\n",
       "      <td>1.243</td>\n",
       "      <td>1.245</td>\n",
       "      <td>1.204</td>\n",
       "      <td>1.234</td>\n",
       "      <td>Ethereum</td>\n",
       "    </tr>\n",
       "  </tbody>\n",
       "</table>\n",
       "</div>"
      ],
      "text/plain": [
       "         symbol        date   open   high    low  close   network\n",
       "211674  UMAUSDT  2025-08-01  1.242  1.251  1.162  1.202  Ethereum\n",
       "211675  UMAUSDT  2025-08-02  1.202  1.216  1.147  1.172  Ethereum\n",
       "211676  UMAUSDT  2025-08-03  1.175  1.210  1.158  1.207  Ethereum\n",
       "211677  UMAUSDT  2025-08-04  1.206  1.247  1.201  1.242  Ethereum\n",
       "211678  UMAUSDT  2025-08-05  1.243  1.245  1.204  1.234  Ethereum"
      ]
     },
     "execution_count": 5,
     "metadata": {},
     "output_type": "execute_result"
    }
   ],
   "source": [
    "df.tail()"
   ]
  },
  {
   "cell_type": "code",
   "execution_count": 6,
   "id": "4baa7afc",
   "metadata": {
    "execution": {
     "iopub.execute_input": "2025-08-10T12:51:40.774935Z",
     "iopub.status.busy": "2025-08-10T12:51:40.774415Z",
     "iopub.status.idle": "2025-08-10T12:51:40.820329Z",
     "shell.execute_reply": "2025-08-10T12:51:40.819252Z"
    },
    "papermill": {
     "duration": 0.050443,
     "end_time": "2025-08-10T12:51:40.821840",
     "exception": false,
     "start_time": "2025-08-10T12:51:40.771397",
     "status": "completed"
    },
    "tags": []
   },
   "outputs": [
    {
     "name": "stdout",
     "output_type": "stream",
     "text": [
      "symbol     0\n",
      "date       0\n",
      "open       0\n",
      "high       0\n",
      "low        0\n",
      "close      0\n",
      "network    0\n",
      "dtype: int64\n"
     ]
    }
   ],
   "source": [
    "print(df.isnull().sum())\n"
   ]
  },
  {
   "cell_type": "code",
   "execution_count": 7,
   "id": "8f11a3e8",
   "metadata": {
    "execution": {
     "iopub.execute_input": "2025-08-10T12:51:40.828331Z",
     "iopub.status.busy": "2025-08-10T12:51:40.827614Z",
     "iopub.status.idle": "2025-08-10T12:51:40.948843Z",
     "shell.execute_reply": "2025-08-10T12:51:40.947982Z"
    },
    "papermill": {
     "duration": 0.125712,
     "end_time": "2025-08-10T12:51:40.950150",
     "exception": false,
     "start_time": "2025-08-10T12:51:40.824438",
     "status": "completed"
    },
    "tags": []
   },
   "outputs": [
    {
     "data": {
      "text/html": [
       "<div>\n",
       "<style scoped>\n",
       "    .dataframe tbody tr th:only-of-type {\n",
       "        vertical-align: middle;\n",
       "    }\n",
       "\n",
       "    .dataframe tbody tr th {\n",
       "        vertical-align: top;\n",
       "    }\n",
       "\n",
       "    .dataframe thead th {\n",
       "        text-align: right;\n",
       "    }\n",
       "</style>\n",
       "<table border=\"1\" class=\"dataframe\">\n",
       "  <thead>\n",
       "    <tr style=\"text-align: right;\">\n",
       "      <th></th>\n",
       "      <th>symbol</th>\n",
       "      <th>date</th>\n",
       "      <th>open</th>\n",
       "      <th>high</th>\n",
       "      <th>low</th>\n",
       "      <th>close</th>\n",
       "      <th>network</th>\n",
       "    </tr>\n",
       "  </thead>\n",
       "  <tbody>\n",
       "    <tr>\n",
       "      <th>count</th>\n",
       "      <td>211679</td>\n",
       "      <td>211679</td>\n",
       "      <td>211679.000000</td>\n",
       "      <td>211679.000000</td>\n",
       "      <td>211679.000000</td>\n",
       "      <td>211679.000000</td>\n",
       "      <td>211679</td>\n",
       "    </tr>\n",
       "    <tr>\n",
       "      <th>unique</th>\n",
       "      <td>100</td>\n",
       "      <td>2562</td>\n",
       "      <td>NaN</td>\n",
       "      <td>NaN</td>\n",
       "      <td>NaN</td>\n",
       "      <td>NaN</td>\n",
       "      <td>50</td>\n",
       "    </tr>\n",
       "    <tr>\n",
       "      <th>top</th>\n",
       "      <td>BTCUSDT</td>\n",
       "      <td>2022-02-02</td>\n",
       "      <td>NaN</td>\n",
       "      <td>NaN</td>\n",
       "      <td>NaN</td>\n",
       "      <td>NaN</td>\n",
       "      <td>Ethereum</td>\n",
       "    </tr>\n",
       "    <tr>\n",
       "      <th>freq</th>\n",
       "      <td>2562</td>\n",
       "      <td>100</td>\n",
       "      <td>NaN</td>\n",
       "      <td>NaN</td>\n",
       "      <td>NaN</td>\n",
       "      <td>NaN</td>\n",
       "      <td>94654</td>\n",
       "    </tr>\n",
       "    <tr>\n",
       "      <th>mean</th>\n",
       "      <td>NaN</td>\n",
       "      <td>NaN</td>\n",
       "      <td>628.566155</td>\n",
       "      <td>646.550242</td>\n",
       "      <td>609.654246</td>\n",
       "      <td>629.092910</td>\n",
       "      <td>NaN</td>\n",
       "    </tr>\n",
       "    <tr>\n",
       "      <th>std</th>\n",
       "      <td>NaN</td>\n",
       "      <td>NaN</td>\n",
       "      <td>5345.009524</td>\n",
       "      <td>5478.052232</td>\n",
       "      <td>5207.376818</td>\n",
       "      <td>5350.691462</td>\n",
       "      <td>NaN</td>\n",
       "    </tr>\n",
       "    <tr>\n",
       "      <th>min</th>\n",
       "      <td>NaN</td>\n",
       "      <td>NaN</td>\n",
       "      <td>0.000043</td>\n",
       "      <td>0.000044</td>\n",
       "      <td>0.000037</td>\n",
       "      <td>0.000043</td>\n",
       "      <td>NaN</td>\n",
       "    </tr>\n",
       "    <tr>\n",
       "      <th>25%</th>\n",
       "      <td>NaN</td>\n",
       "      <td>NaN</td>\n",
       "      <td>0.061740</td>\n",
       "      <td>0.064500</td>\n",
       "      <td>0.059095</td>\n",
       "      <td>0.061750</td>\n",
       "      <td>NaN</td>\n",
       "    </tr>\n",
       "    <tr>\n",
       "      <th>50%</th>\n",
       "      <td>NaN</td>\n",
       "      <td>NaN</td>\n",
       "      <td>0.418100</td>\n",
       "      <td>0.438400</td>\n",
       "      <td>0.398000</td>\n",
       "      <td>0.418000</td>\n",
       "      <td>NaN</td>\n",
       "    </tr>\n",
       "    <tr>\n",
       "      <th>75%</th>\n",
       "      <td>NaN</td>\n",
       "      <td>NaN</td>\n",
       "      <td>4.383000</td>\n",
       "      <td>4.595200</td>\n",
       "      <td>4.165000</td>\n",
       "      <td>4.383000</td>\n",
       "      <td>NaN</td>\n",
       "    </tr>\n",
       "    <tr>\n",
       "      <th>max</th>\n",
       "      <td>NaN</td>\n",
       "      <td>NaN</td>\n",
       "      <td>119954.430000</td>\n",
       "      <td>123218.000000</td>\n",
       "      <td>118905.180000</td>\n",
       "      <td>119954.420000</td>\n",
       "      <td>NaN</td>\n",
       "    </tr>\n",
       "  </tbody>\n",
       "</table>\n",
       "</div>"
      ],
      "text/plain": [
       "         symbol        date           open           high            low  \\\n",
       "count    211679      211679  211679.000000  211679.000000  211679.000000   \n",
       "unique      100        2562            NaN            NaN            NaN   \n",
       "top     BTCUSDT  2022-02-02            NaN            NaN            NaN   \n",
       "freq       2562         100            NaN            NaN            NaN   \n",
       "mean        NaN         NaN     628.566155     646.550242     609.654246   \n",
       "std         NaN         NaN    5345.009524    5478.052232    5207.376818   \n",
       "min         NaN         NaN       0.000043       0.000044       0.000037   \n",
       "25%         NaN         NaN       0.061740       0.064500       0.059095   \n",
       "50%         NaN         NaN       0.418100       0.438400       0.398000   \n",
       "75%         NaN         NaN       4.383000       4.595200       4.165000   \n",
       "max         NaN         NaN  119954.430000  123218.000000  118905.180000   \n",
       "\n",
       "                close   network  \n",
       "count   211679.000000    211679  \n",
       "unique            NaN        50  \n",
       "top               NaN  Ethereum  \n",
       "freq              NaN     94654  \n",
       "mean       629.092910       NaN  \n",
       "std       5350.691462       NaN  \n",
       "min          0.000043       NaN  \n",
       "25%          0.061750       NaN  \n",
       "50%          0.418000       NaN  \n",
       "75%          4.383000       NaN  \n",
       "max     119954.420000       NaN  "
      ]
     },
     "metadata": {},
     "output_type": "display_data"
    }
   ],
   "source": [
    "display(df.describe(include='all'))\n"
   ]
  }
 ],
 "metadata": {
  "kaggle": {
   "accelerator": "none",
   "dataSources": [
    {
     "datasetId": 8013644,
     "sourceId": 12680802,
     "sourceType": "datasetVersion"
    }
   ],
   "dockerImageVersionId": 31089,
   "isGpuEnabled": false,
   "isInternetEnabled": true,
   "language": "python",
   "sourceType": "notebook"
  },
  "kernelspec": {
   "display_name": "Python 3",
   "language": "python",
   "name": "python3"
  },
  "language_info": {
   "codemirror_mode": {
    "name": "ipython",
    "version": 3
   },
   "file_extension": ".py",
   "mimetype": "text/x-python",
   "name": "python",
   "nbconvert_exporter": "python",
   "pygments_lexer": "ipython3",
   "version": "3.11.13"
  },
  "papermill": {
   "default_parameters": {},
   "duration": 7.237715,
   "end_time": "2025-08-10T12:51:41.370791",
   "environment_variables": {},
   "exception": null,
   "input_path": "__notebook__.ipynb",
   "output_path": "__notebook__.ipynb",
   "parameters": {},
   "start_time": "2025-08-10T12:51:34.133076",
   "version": "2.6.0"
  }
 },
 "nbformat": 4,
 "nbformat_minor": 5
}
